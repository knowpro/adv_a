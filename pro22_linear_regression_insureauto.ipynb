{
 "cells": [
  {
   "cell_type": "code",
   "execution_count": 36,
   "id": "5f9bb9b7",
   "metadata": {},
   "outputs": [],
   "source": [
    "import pandas as pd\n",
    "import numpy as np\n",
    "\n",
    "from sklearn.linear_model import LinearRegression\n",
    "from sklearn.metrics import r2_score"
   ]
  },
  {
   "cell_type": "code",
   "execution_count": 37,
   "id": "1af80664",
   "metadata": {},
   "outputs": [],
   "source": [
    "auto_ins = pd.read_csv(r\"C:/Hogwarts/advanced_analytics/Datasets/Insure_auto.csv\")"
   ]
  },
  {
   "cell_type": "code",
   "execution_count": 38,
   "id": "a2c92180",
   "metadata": {},
   "outputs": [],
   "source": [
    "lr = LinearRegression()"
   ]
  },
  {
   "cell_type": "code",
   "execution_count": 39,
   "id": "f3d6522d",
   "metadata": {},
   "outputs": [],
   "source": [
    "X1 = auto_ins[['Automobile']]\n",
    "y1 = auto_ins['Operating_Cost']"
   ]
  },
  {
   "cell_type": "code",
   "execution_count": 40,
   "id": "45b22847",
   "metadata": {},
   "outputs": [
    {
     "name": "stdout",
     "output_type": "stream",
     "text": [
      "12337.458724422133\n",
      "[111.05405476]\n"
     ]
    }
   ],
   "source": [
    "lr.fit(X1, y1)\n",
    "print(lr.intercept_)\n",
    "print(lr.coef_)"
   ]
  },
  {
   "cell_type": "code",
   "execution_count": 41,
   "id": "01764853",
   "metadata": {},
   "outputs": [],
   "source": [
    "y_pred = lr.predict(X1)"
   ]
  },
  {
   "cell_type": "code",
   "execution_count": 55,
   "id": "a7dcbf88",
   "metadata": {},
   "outputs": [
    {
     "name": "stdout",
     "output_type": "stream",
     "text": [
      "-117701.76699461373\n"
     ]
    }
   ],
   "source": [
    "print(r2_score(y, y_pred)) # Gives the r_sq value"
   ]
  },
  {
   "cell_type": "markdown",
   "id": "14ab2f13",
   "metadata": {},
   "source": [
    "# Home vs Operating_Cost"
   ]
  },
  {
   "cell_type": "code",
   "execution_count": 43,
   "id": "88728f77",
   "metadata": {},
   "outputs": [],
   "source": [
    "X2 = auto_ins[['Home']]\n",
    "y2 = auto_ins['Operating_Cost']"
   ]
  },
  {
   "cell_type": "code",
   "execution_count": 44,
   "id": "af30bf67",
   "metadata": {},
   "outputs": [
    {
     "name": "stdout",
     "output_type": "stream",
     "text": [
      "23045.638945233266\n",
      "[215.21298174]\n"
     ]
    }
   ],
   "source": [
    "lr.fit(X2, y2)\n",
    "print(lr.intercept_)\n",
    "print(lr.coef_)"
   ]
  },
  {
   "cell_type": "code",
   "execution_count": 45,
   "id": "c3f3d87f",
   "metadata": {},
   "outputs": [],
   "source": [
    "y_pred2 = lr.predict(X2)"
   ]
  },
  {
   "cell_type": "code",
   "execution_count": 46,
   "id": "f3cc777c",
   "metadata": {},
   "outputs": [
    {
     "name": "stdout",
     "output_type": "stream",
     "text": [
      "0.8940377778912443\n"
     ]
    }
   ],
   "source": [
    "print(r2_score(y2, y_pred2))"
   ]
  },
  {
   "cell_type": "markdown",
   "id": "b41aaf2d",
   "metadata": {},
   "source": [
    "# Home, Automobile vs Operating_Cost"
   ]
  },
  {
   "cell_type": "code",
   "execution_count": 48,
   "id": "f768d9d2",
   "metadata": {},
   "outputs": [],
   "source": [
    "X3 = auto_ins[['Home','Automobile']]\n",
    "y3 = auto_ins['Operating_Cost']"
   ]
  },
  {
   "cell_type": "code",
   "execution_count": 49,
   "id": "8579ef1d",
   "metadata": {},
   "outputs": [
    {
     "name": "stdout",
     "output_type": "stream",
     "text": [
      "-10084.213130948774\n",
      "[167.32668857  54.10529229]\n"
     ]
    }
   ],
   "source": [
    "lr.fit(X2, y2)\n",
    "print(lr.intercept_)\n",
    "print(lr.coef_)"
   ]
  },
  {
   "cell_type": "code",
   "execution_count": 52,
   "id": "a9f8d788",
   "metadata": {},
   "outputs": [],
   "source": [
    "y_pred3 = lr.predict(X3)"
   ]
  },
  {
   "cell_type": "code",
   "execution_count": 53,
   "id": "2424e39d",
   "metadata": {},
   "outputs": [
    {
     "name": "stdout",
     "output_type": "stream",
     "text": [
      "0.9967183769510445\n"
     ]
    }
   ],
   "source": [
    "print(r2_score(y3, y_pred3))"
   ]
  },
  {
   "cell_type": "code",
   "execution_count": null,
   "id": "865c69d9",
   "metadata": {},
   "outputs": [],
   "source": []
  }
 ],
 "metadata": {
  "kernelspec": {
   "display_name": "Python 3 (ipykernel)",
   "language": "python",
   "name": "python3"
  },
  "language_info": {
   "codemirror_mode": {
    "name": "ipython",
    "version": 3
   },
   "file_extension": ".py",
   "mimetype": "text/x-python",
   "name": "python",
   "nbconvert_exporter": "python",
   "pygments_lexer": "ipython3",
   "version": "3.9.13"
  }
 },
 "nbformat": 4,
 "nbformat_minor": 5
}
