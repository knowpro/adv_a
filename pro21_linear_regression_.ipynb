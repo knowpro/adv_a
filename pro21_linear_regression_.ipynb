{
 "cells": [
  {
   "cell_type": "code",
   "execution_count": 3,
   "id": "de6a91c6",
   "metadata": {},
   "outputs": [],
   "source": [
    "import pandas as pd\n",
    "import numpy as np\n",
    "\n",
    "from sklearn.linear_model import LinearRegression\n",
    "from sklearn.metrics import r2_score"
   ]
  },
  {
   "cell_type": "code",
   "execution_count": 4,
   "id": "e1b849e3",
   "metadata": {},
   "outputs": [],
   "source": [
    "pizza = pd.read_csv(r\"C:/Hogwarts/advanced_analytics/Datasets/pizza.csv\")"
   ]
  },
  {
   "cell_type": "code",
   "execution_count": 5,
   "id": "16b5beb0",
   "metadata": {},
   "outputs": [],
   "source": [
    "lr = LinearRegression()"
   ]
  },
  {
   "cell_type": "code",
   "execution_count": 6,
   "id": "34151485",
   "metadata": {},
   "outputs": [],
   "source": [
    "X= pizza[['Promote']]\n",
    "y = pizza ['Sales']"
   ]
  },
  {
   "cell_type": "code",
   "execution_count": 7,
   "id": "7fdbbc2e",
   "metadata": {},
   "outputs": [
    {
     "name": "stdout",
     "output_type": "stream",
     "text": [
      "5.4858653632529695\n",
      "[23.50640302]\n"
     ]
    }
   ],
   "source": [
    "lr.fit(X,y)  # X is a dataframe as it is expected to be 2d\n",
    "print(lr.intercept_)\n",
    "print(lr.coef_)"
   ]
  },
  {
   "cell_type": "code",
   "execution_count": 8,
   "id": "68c1b3de",
   "metadata": {},
   "outputs": [],
   "source": [
    "# yi^\n",
    "y_pred = lr.predict(X)"
   ]
  },
  {
   "cell_type": "code",
   "execution_count": 9,
   "id": "56428080",
   "metadata": {},
   "outputs": [
    {
     "name": "stdout",
     "output_type": "stream",
     "text": [
      "0.9888148131886373\n"
     ]
    }
   ],
   "source": [
    "print(r2_score(y, y_pred))"
   ]
  },
  {
   "cell_type": "code",
   "execution_count": 11,
   "id": "9dbe141e",
   "metadata": {},
   "outputs": [],
   "source": [
    "# Below script does same as above cell"
   ]
  },
  {
   "cell_type": "code",
   "execution_count": 10,
   "id": "91b96353",
   "metadata": {},
   "outputs": [],
   "source": [
    "# numerator = np.sum((y - y_pred)**2)\n",
    "# denominator = np.sum((y - y.mean())**2)\n",
    "# 1 - (numerator/denominator)"
   ]
  },
  {
   "cell_type": "code",
   "execution_count": null,
   "id": "e5239962",
   "metadata": {},
   "outputs": [],
   "source": []
  }
 ],
 "metadata": {
  "kernelspec": {
   "display_name": "Python 3 (ipykernel)",
   "language": "python",
   "name": "python3"
  },
  "language_info": {
   "codemirror_mode": {
    "name": "ipython",
    "version": 3
   },
   "file_extension": ".py",
   "mimetype": "text/x-python",
   "name": "python",
   "nbconvert_exporter": "python",
   "pygments_lexer": "ipython3",
   "version": "3.9.13"
  }
 },
 "nbformat": 4,
 "nbformat_minor": 5
}
