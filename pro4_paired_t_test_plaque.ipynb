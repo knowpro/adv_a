{
 "cells": [
  {
   "cell_type": "code",
   "execution_count": 1,
   "id": "ec3bfa1b",
   "metadata": {},
   "outputs": [],
   "source": [
    "import pandas as pd\n",
    "from scipy.stats import ttest_rel"
   ]
  },
  {
   "cell_type": "code",
   "execution_count": 4,
   "id": "9f8fb24c",
   "metadata": {},
   "outputs": [],
   "source": [
    "plq = pd.read_csv(r\"C:/Hogwarts/advanced_analytics/Datasets/Plaque.csv\")"
   ]
  },
  {
   "cell_type": "code",
   "execution_count": 5,
   "id": "6f3d109a",
   "metadata": {},
   "outputs": [
    {
     "data": {
      "text/html": [
       "<div>\n",
       "<style scoped>\n",
       "    .dataframe tbody tr th:only-of-type {\n",
       "        vertical-align: middle;\n",
       "    }\n",
       "\n",
       "    .dataframe tbody tr th {\n",
       "        vertical-align: top;\n",
       "    }\n",
       "\n",
       "    .dataframe thead th {\n",
       "        text-align: right;\n",
       "    }\n",
       "</style>\n",
       "<table border=\"1\" class=\"dataframe\">\n",
       "  <thead>\n",
       "    <tr style=\"text-align: right;\">\n",
       "      <th></th>\n",
       "      <th>Id</th>\n",
       "      <th>product</th>\n",
       "      <th>trt</th>\n",
       "      <th>score</th>\n",
       "    </tr>\n",
       "  </thead>\n",
       "  <tbody>\n",
       "    <tr>\n",
       "      <th>0</th>\n",
       "      <td>1</td>\n",
       "      <td>P1</td>\n",
       "      <td>Before</td>\n",
       "      <td>3.0</td>\n",
       "    </tr>\n",
       "    <tr>\n",
       "      <th>1</th>\n",
       "      <td>2</td>\n",
       "      <td>P1</td>\n",
       "      <td>Before</td>\n",
       "      <td>4.0</td>\n",
       "    </tr>\n",
       "    <tr>\n",
       "      <th>2</th>\n",
       "      <td>3</td>\n",
       "      <td>P1</td>\n",
       "      <td>Before</td>\n",
       "      <td>4.1</td>\n",
       "    </tr>\n",
       "    <tr>\n",
       "      <th>3</th>\n",
       "      <td>4</td>\n",
       "      <td>P1</td>\n",
       "      <td>Before</td>\n",
       "      <td>3.6</td>\n",
       "    </tr>\n",
       "    <tr>\n",
       "      <th>4</th>\n",
       "      <td>5</td>\n",
       "      <td>P1</td>\n",
       "      <td>Before</td>\n",
       "      <td>4.1</td>\n",
       "    </tr>\n",
       "    <tr>\n",
       "      <th>...</th>\n",
       "      <td>...</td>\n",
       "      <td>...</td>\n",
       "      <td>...</td>\n",
       "      <td>...</td>\n",
       "    </tr>\n",
       "    <tr>\n",
       "      <th>115</th>\n",
       "      <td>16</td>\n",
       "      <td>P3</td>\n",
       "      <td>After</td>\n",
       "      <td>2.9</td>\n",
       "    </tr>\n",
       "    <tr>\n",
       "      <th>116</th>\n",
       "      <td>17</td>\n",
       "      <td>P3</td>\n",
       "      <td>After</td>\n",
       "      <td>2.6</td>\n",
       "    </tr>\n",
       "    <tr>\n",
       "      <th>117</th>\n",
       "      <td>18</td>\n",
       "      <td>P3</td>\n",
       "      <td>After</td>\n",
       "      <td>3.4</td>\n",
       "    </tr>\n",
       "    <tr>\n",
       "      <th>118</th>\n",
       "      <td>19</td>\n",
       "      <td>P3</td>\n",
       "      <td>After</td>\n",
       "      <td>3.6</td>\n",
       "    </tr>\n",
       "    <tr>\n",
       "      <th>119</th>\n",
       "      <td>20</td>\n",
       "      <td>P3</td>\n",
       "      <td>After</td>\n",
       "      <td>3.5</td>\n",
       "    </tr>\n",
       "  </tbody>\n",
       "</table>\n",
       "<p>120 rows × 4 columns</p>\n",
       "</div>"
      ],
      "text/plain": [
       "     Id product     trt  score\n",
       "0     1      P1  Before    3.0\n",
       "1     2      P1  Before    4.0\n",
       "2     3      P1  Before    4.1\n",
       "3     4      P1  Before    3.6\n",
       "4     5      P1  Before    4.1\n",
       "..   ..     ...     ...    ...\n",
       "115  16      P3   After    2.9\n",
       "116  17      P3   After    2.6\n",
       "117  18      P3   After    3.4\n",
       "118  19      P3   After    3.6\n",
       "119  20      P3   After    3.5\n",
       "\n",
       "[120 rows x 4 columns]"
      ]
     },
     "execution_count": 5,
     "metadata": {},
     "output_type": "execute_result"
    }
   ],
   "source": [
    "plq"
   ]
  },
  {
   "cell_type": "code",
   "execution_count": 21,
   "id": "7df39864",
   "metadata": {},
   "outputs": [
    {
     "name": "stdout",
     "output_type": "stream",
     "text": [
      "<class 'pandas.core.frame.DataFrame'>\n",
      "RangeIndex: 120 entries, 0 to 119\n",
      "Data columns (total 4 columns):\n",
      " #   Column   Non-Null Count  Dtype  \n",
      "---  ------   --------------  -----  \n",
      " 0   Id       120 non-null    int64  \n",
      " 1   product  120 non-null    object \n",
      " 2   trt      120 non-null    object \n",
      " 3   score    120 non-null    float64\n",
      "dtypes: float64(1), int64(1), object(2)\n",
      "memory usage: 3.9+ KB\n"
     ]
    }
   ],
   "source": [
    "plq.info()"
   ]
  },
  {
   "cell_type": "markdown",
   "id": "111c121f",
   "metadata": {},
   "source": [
    "### Pivoting the data"
   ]
  },
  {
   "cell_type": "code",
   "execution_count": 22,
   "id": "a88214e7",
   "metadata": {},
   "outputs": [
    {
     "data": {
      "text/html": [
       "<div>\n",
       "<style scoped>\n",
       "    .dataframe tbody tr th:only-of-type {\n",
       "        vertical-align: middle;\n",
       "    }\n",
       "\n",
       "    .dataframe tbody tr th {\n",
       "        vertical-align: top;\n",
       "    }\n",
       "\n",
       "    .dataframe thead th {\n",
       "        text-align: right;\n",
       "    }\n",
       "</style>\n",
       "<table border=\"1\" class=\"dataframe\">\n",
       "  <thead>\n",
       "    <tr style=\"text-align: right;\">\n",
       "      <th></th>\n",
       "      <th>trt</th>\n",
       "      <th>After</th>\n",
       "      <th>Before</th>\n",
       "    </tr>\n",
       "    <tr>\n",
       "      <th>Id</th>\n",
       "      <th>product</th>\n",
       "      <th></th>\n",
       "      <th></th>\n",
       "    </tr>\n",
       "  </thead>\n",
       "  <tbody>\n",
       "    <tr>\n",
       "      <th rowspan=\"3\" valign=\"top\">1</th>\n",
       "      <th>P1</th>\n",
       "      <td>2.3</td>\n",
       "      <td>3.0</td>\n",
       "    </tr>\n",
       "    <tr>\n",
       "      <th>P2</th>\n",
       "      <td>2.5</td>\n",
       "      <td>3.6</td>\n",
       "    </tr>\n",
       "    <tr>\n",
       "      <th>P3</th>\n",
       "      <td>3.9</td>\n",
       "      <td>3.8</td>\n",
       "    </tr>\n",
       "    <tr>\n",
       "      <th rowspan=\"2\" valign=\"top\">2</th>\n",
       "      <th>P1</th>\n",
       "      <td>2.2</td>\n",
       "      <td>4.0</td>\n",
       "    </tr>\n",
       "    <tr>\n",
       "      <th>P2</th>\n",
       "      <td>2.3</td>\n",
       "      <td>4.4</td>\n",
       "    </tr>\n",
       "  </tbody>\n",
       "</table>\n",
       "</div>"
      ],
      "text/plain": [
       "trt         After  Before\n",
       "Id product               \n",
       "1  P1         2.3     3.0\n",
       "   P2         2.5     3.6\n",
       "   P3         3.9     3.8\n",
       "2  P1         2.2     4.0\n",
       "   P2         2.3     4.4"
      ]
     },
     "execution_count": 22,
     "metadata": {},
     "output_type": "execute_result"
    }
   ],
   "source": [
    "plq_pivot = pd.pivot_table(plq,\n",
    "                          index= ['Id','product'],\n",
    "                          columns='trt',\n",
    "                          values='score')\n",
    "plq_pivot.head()"
   ]
  },
  {
   "cell_type": "code",
   "execution_count": 23,
   "id": "a1774494",
   "metadata": {},
   "outputs": [],
   "source": [
    "plq_pivot = plq_pivot.reset_index()"
   ]
  },
  {
   "cell_type": "markdown",
   "id": "8b1d927b",
   "metadata": {},
   "source": [
    "### For P1"
   ]
  },
  {
   "cell_type": "code",
   "execution_count": 24,
   "id": "38a252f7",
   "metadata": {},
   "outputs": [],
   "source": [
    "p1 = plq_pivot[ plq_pivot['product']==\"P1\"]"
   ]
  },
  {
   "cell_type": "code",
   "execution_count": 25,
   "id": "da67f29a",
   "metadata": {},
   "outputs": [
    {
     "data": {
      "text/plain": [
       "Ttest_relResult(statistic=6.098077102046814, pvalue=3.648006849207915e-06)"
      ]
     },
     "execution_count": 25,
     "metadata": {},
     "output_type": "execute_result"
    }
   ],
   "source": [
    "ttest_rel( p1['Before'], p1['After'],\n",
    "         alternative=\"greater\")"
   ]
  },
  {
   "cell_type": "markdown",
   "id": "e95829cb",
   "metadata": {},
   "source": [
    "### For P2"
   ]
  },
  {
   "cell_type": "code",
   "execution_count": 26,
   "id": "f1a9f851",
   "metadata": {},
   "outputs": [],
   "source": [
    "p2 = plq_pivot[ plq_pivot['product']==\"P2\"]"
   ]
  },
  {
   "cell_type": "code",
   "execution_count": 27,
   "id": "da553c3d",
   "metadata": {},
   "outputs": [
    {
     "data": {
      "text/plain": [
       "Ttest_relResult(statistic=5.137722236827655, pvalue=2.9252117932341204e-05)"
      ]
     },
     "execution_count": 27,
     "metadata": {},
     "output_type": "execute_result"
    }
   ],
   "source": [
    "ttest_rel( p2['Before'], p2['After'],\n",
    "         alternative=\"greater\")"
   ]
  },
  {
   "cell_type": "markdown",
   "id": "cd73d201",
   "metadata": {},
   "source": [
    "### For P3"
   ]
  },
  {
   "cell_type": "code",
   "execution_count": 28,
   "id": "d29206a2",
   "metadata": {},
   "outputs": [],
   "source": [
    "p3 = plq_pivot[ plq_pivot['product']==\"P3\"]"
   ]
  },
  {
   "cell_type": "code",
   "execution_count": 29,
   "id": "87212622",
   "metadata": {},
   "outputs": [
    {
     "data": {
      "text/plain": [
       "Ttest_relResult(statistic=5.137722236827655, pvalue=2.9252117932341204e-05)"
      ]
     },
     "execution_count": 29,
     "metadata": {},
     "output_type": "execute_result"
    }
   ],
   "source": [
    "ttest_rel( p2['Before'], p2['After'],\n",
    "         alternative=\"greater\")"
   ]
  },
  {
   "cell_type": "code",
   "execution_count": null,
   "id": "3ff5792a",
   "metadata": {},
   "outputs": [],
   "source": []
  }
 ],
 "metadata": {
  "kernelspec": {
   "display_name": "Python 3 (ipykernel)",
   "language": "python",
   "name": "python3"
  },
  "language_info": {
   "codemirror_mode": {
    "name": "ipython",
    "version": 3
   },
   "file_extension": ".py",
   "mimetype": "text/x-python",
   "name": "python",
   "nbconvert_exporter": "python",
   "pygments_lexer": "ipython3",
   "version": "3.9.13"
  }
 },
 "nbformat": 4,
 "nbformat_minor": 5
}
