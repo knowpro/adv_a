{
 "cells": [
  {
   "cell_type": "code",
   "execution_count": 15,
   "id": "91e451dd",
   "metadata": {},
   "outputs": [],
   "source": [
    "import pandas as pd\n",
    "from statsmodels.stats.anova import anova_lm\n",
    "from statsmodels.formula.api import ols\n",
    "from statsmodels.stats.multicomp import pairwise_tukeyhsd"
   ]
  },
  {
   "cell_type": "code",
   "execution_count": 16,
   "id": "d2396c72",
   "metadata": {},
   "outputs": [],
   "source": [
    "agr = pd.read_csv(r\"C:/Hogwarts/advanced_analytics/Datasets/Yield.csv\")"
   ]
  },
  {
   "cell_type": "code",
   "execution_count": 17,
   "id": "c674dd63",
   "metadata": {},
   "outputs": [],
   "source": [
    "agr_ols = ols('Yield ~ Treatments', data = agr).fit()"
   ]
  },
  {
   "cell_type": "code",
   "execution_count": 18,
   "id": "46439fe2",
   "metadata": {},
   "outputs": [
    {
     "name": "stdout",
     "output_type": "stream",
     "text": [
      "                 sum_sq    df          F    PR(>F)\n",
      "Treatments  1551.607762   3.0  18.293252  0.000006\n",
      "Residual     565.457238  20.0        NaN       NaN\n"
     ]
    }
   ],
   "source": [
    "table = anova_lm(agr_ols, typ = 2) #type 2 layout in syllabi\n",
    "print(table)"
   ]
  },
  {
   "cell_type": "code",
   "execution_count": 20,
   "id": "91b67cdb",
   "metadata": {},
   "outputs": [],
   "source": [
    "compare = pairwise_tukeyhsd(agr['Yield'],\n",
    "                            agr['Treatments'], alpha = 0.05)"
   ]
  },
  {
   "cell_type": "code",
   "execution_count": 22,
   "id": "c9439fa2",
   "metadata": {},
   "outputs": [
    {
     "data": {
      "text/html": [
       "<div>\n",
       "<style scoped>\n",
       "    .dataframe tbody tr th:only-of-type {\n",
       "        vertical-align: middle;\n",
       "    }\n",
       "\n",
       "    .dataframe tbody tr th {\n",
       "        vertical-align: top;\n",
       "    }\n",
       "\n",
       "    .dataframe thead th {\n",
       "        text-align: right;\n",
       "    }\n",
       "</style>\n",
       "<table border=\"1\" class=\"dataframe\">\n",
       "  <thead>\n",
       "    <tr style=\"text-align: right;\">\n",
       "      <th></th>\n",
       "      <th>0</th>\n",
       "      <th>1</th>\n",
       "      <th>2</th>\n",
       "      <th>3</th>\n",
       "      <th>4</th>\n",
       "      <th>5</th>\n",
       "      <th>6</th>\n",
       "    </tr>\n",
       "  </thead>\n",
       "  <tbody>\n",
       "    <tr>\n",
       "      <th>0</th>\n",
       "      <td>group1</td>\n",
       "      <td>group2</td>\n",
       "      <td>meandiff</td>\n",
       "      <td>p-adj</td>\n",
       "      <td>lower</td>\n",
       "      <td>upper</td>\n",
       "      <td>reject</td>\n",
       "    </tr>\n",
       "    <tr>\n",
       "      <th>1</th>\n",
       "      <td>I</td>\n",
       "      <td>II</td>\n",
       "      <td>13.0976</td>\n",
       "      <td>0.0014</td>\n",
       "      <td>4.8177</td>\n",
       "      <td>21.3775</td>\n",
       "      <td>True</td>\n",
       "    </tr>\n",
       "    <tr>\n",
       "      <th>2</th>\n",
       "      <td>I</td>\n",
       "      <td>III</td>\n",
       "      <td>-0.6567</td>\n",
       "      <td>0.9969</td>\n",
       "      <td>-9.6685</td>\n",
       "      <td>8.3552</td>\n",
       "      <td>False</td>\n",
       "    </tr>\n",
       "    <tr>\n",
       "      <th>3</th>\n",
       "      <td>I</td>\n",
       "      <td>IV</td>\n",
       "      <td>18.1</td>\n",
       "      <td>0.0001</td>\n",
       "      <td>9.5075</td>\n",
       "      <td>26.6925</td>\n",
       "      <td>True</td>\n",
       "    </tr>\n",
       "    <tr>\n",
       "      <th>4</th>\n",
       "      <td>II</td>\n",
       "      <td>III</td>\n",
       "      <td>-13.7543</td>\n",
       "      <td>0.0014</td>\n",
       "      <td>-22.4686</td>\n",
       "      <td>-5.0399</td>\n",
       "      <td>True</td>\n",
       "    </tr>\n",
       "    <tr>\n",
       "      <th>5</th>\n",
       "      <td>II</td>\n",
       "      <td>IV</td>\n",
       "      <td>5.0024</td>\n",
       "      <td>0.3541</td>\n",
       "      <td>-3.2775</td>\n",
       "      <td>13.2823</td>\n",
       "      <td>False</td>\n",
       "    </tr>\n",
       "    <tr>\n",
       "      <th>6</th>\n",
       "      <td>III</td>\n",
       "      <td>IV</td>\n",
       "      <td>18.7567</td>\n",
       "      <td>0.0001</td>\n",
       "      <td>9.7448</td>\n",
       "      <td>27.7685</td>\n",
       "      <td>True</td>\n",
       "    </tr>\n",
       "  </tbody>\n",
       "</table>\n",
       "</div>"
      ],
      "text/plain": [
       "        0       1         2       3        4        5       6\n",
       "0  group1  group2  meandiff   p-adj    lower    upper  reject\n",
       "1       I      II   13.0976  0.0014   4.8177  21.3775    True\n",
       "2       I     III   -0.6567  0.9969  -9.6685   8.3552   False\n",
       "3       I      IV      18.1  0.0001   9.5075  26.6925    True\n",
       "4      II     III  -13.7543  0.0014 -22.4686  -5.0399    True\n",
       "5      II      IV    5.0024  0.3541  -3.2775  13.2823   False\n",
       "6     III      IV   18.7567  0.0001   9.7448  27.7685    True"
      ]
     },
     "execution_count": 22,
     "metadata": {},
     "output_type": "execute_result"
    }
   ],
   "source": [
    "dd = pd.DataFrame(compare._results_table.data)\n",
    "dd"
   ]
  },
  {
   "cell_type": "code",
   "execution_count": 23,
   "id": "2edfbcc3",
   "metadata": {},
   "outputs": [
    {
     "data": {
      "text/plain": [
       "Treatments\n",
       "I      23.716667\n",
       "II     36.814286\n",
       "III    23.060000\n",
       "IV     41.816667\n",
       "Name: Yield, dtype: float64"
      ]
     },
     "execution_count": 23,
     "metadata": {},
     "output_type": "execute_result"
    }
   ],
   "source": [
    "agr.groupby('Treatments')['Yield'].mean()"
   ]
  },
  {
   "cell_type": "code",
   "execution_count": null,
   "id": "d39dc4cf",
   "metadata": {},
   "outputs": [],
   "source": []
  }
 ],
 "metadata": {
  "kernelspec": {
   "display_name": "Python 3 (ipykernel)",
   "language": "python",
   "name": "python3"
  },
  "language_info": {
   "codemirror_mode": {
    "name": "ipython",
    "version": 3
   },
   "file_extension": ".py",
   "mimetype": "text/x-python",
   "name": "python",
   "nbconvert_exporter": "python",
   "pygments_lexer": "ipython3",
   "version": "3.9.13"
  }
 },
 "nbformat": 4,
 "nbformat_minor": 5
}
