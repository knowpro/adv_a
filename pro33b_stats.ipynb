{
 "cells": [
  {
   "cell_type": "code",
   "execution_count": 4,
   "id": "e748923c",
   "metadata": {},
   "outputs": [],
   "source": [
    "import pandas as pd\n",
    "import numpy as np\n",
    "\n",
    "from sklearn.metrics import r2_score\n",
    "import statsmodels.api as sm"
   ]
  },
  {
   "cell_type": "code",
   "execution_count": 5,
   "id": "a587bef0",
   "metadata": {},
   "outputs": [],
   "source": [
    "import os"
   ]
  },
  {
   "cell_type": "code",
   "execution_count": 6,
   "id": "6df19654",
   "metadata": {},
   "outputs": [],
   "source": [
    "os.chdir(r\"C:\\Hogwarts\\advanced_analytics\\Excel Datasets\\eba3e_datasets_xls\")"
   ]
  },
  {
   "cell_type": "code",
   "execution_count": 20,
   "id": "2e886961",
   "metadata": {},
   "outputs": [
    {
     "data": {
      "text/html": [
       "<div>\n",
       "<style scoped>\n",
       "    .dataframe tbody tr th:only-of-type {\n",
       "        vertical-align: middle;\n",
       "    }\n",
       "\n",
       "    .dataframe tbody tr th {\n",
       "        vertical-align: top;\n",
       "    }\n",
       "\n",
       "    .dataframe thead th {\n",
       "        text-align: right;\n",
       "    }\n",
       "</style>\n",
       "<table border=\"1\" class=\"dataframe\">\n",
       "  <thead>\n",
       "    <tr style=\"text-align: right;\">\n",
       "      <th></th>\n",
       "      <th>Homeowner</th>\n",
       "      <th>Credit Score</th>\n",
       "      <th>Years of Credit History</th>\n",
       "      <th>Revolving Balance</th>\n",
       "      <th>Revolving Utilization</th>\n",
       "      <th>Decision</th>\n",
       "    </tr>\n",
       "  </thead>\n",
       "  <tbody>\n",
       "    <tr>\n",
       "      <th>0</th>\n",
       "      <td>Y</td>\n",
       "      <td>725</td>\n",
       "      <td>20</td>\n",
       "      <td>11320</td>\n",
       "      <td>0.25</td>\n",
       "      <td>Approve</td>\n",
       "    </tr>\n",
       "    <tr>\n",
       "      <th>1</th>\n",
       "      <td>Y</td>\n",
       "      <td>573</td>\n",
       "      <td>9</td>\n",
       "      <td>7200</td>\n",
       "      <td>0.70</td>\n",
       "      <td>Reject</td>\n",
       "    </tr>\n",
       "    <tr>\n",
       "      <th>2</th>\n",
       "      <td>Y</td>\n",
       "      <td>677</td>\n",
       "      <td>11</td>\n",
       "      <td>20000</td>\n",
       "      <td>0.55</td>\n",
       "      <td>Approve</td>\n",
       "    </tr>\n",
       "    <tr>\n",
       "      <th>3</th>\n",
       "      <td>N</td>\n",
       "      <td>625</td>\n",
       "      <td>15</td>\n",
       "      <td>12800</td>\n",
       "      <td>0.65</td>\n",
       "      <td>Reject</td>\n",
       "    </tr>\n",
       "    <tr>\n",
       "      <th>4</th>\n",
       "      <td>N</td>\n",
       "      <td>527</td>\n",
       "      <td>12</td>\n",
       "      <td>5700</td>\n",
       "      <td>0.75</td>\n",
       "      <td>Reject</td>\n",
       "    </tr>\n",
       "  </tbody>\n",
       "</table>\n",
       "</div>"
      ],
      "text/plain": [
       "  Homeowner  Credit Score  Years of Credit History  Revolving Balance  \\\n",
       "0         Y           725                       20              11320   \n",
       "1         Y           573                        9               7200   \n",
       "2         Y           677                       11              20000   \n",
       "3         N           625                       15              12800   \n",
       "4         N           527                       12               5700   \n",
       "\n",
       "   Revolving Utilization Decision  \n",
       "0                   0.25  Approve  \n",
       "1                   0.70   Reject  \n",
       "2                   0.55  Approve  \n",
       "3                   0.65   Reject  \n",
       "4                   0.75   Reject  "
      ]
     },
     "execution_count": 20,
     "metadata": {},
     "output_type": "execute_result"
    }
   ],
   "source": [
    "cred.head()"
   ]
  },
  {
   "cell_type": "code",
   "execution_count": 7,
   "id": "3b9e2a35",
   "metadata": {},
   "outputs": [],
   "source": [
    "cred = pd.read_excel(\"CreditApprovalDecisions.xlsx\",\n",
    "                    sheet_name=\"Data\",\n",
    "                    usecols=\"A:F\",\n",
    "                    skiprows = 2)"
   ]
  },
  {
   "cell_type": "code",
   "execution_count": 22,
   "id": "4ce20e62",
   "metadata": {},
   "outputs": [],
   "source": [
    "X = cred[[\"Years of Credit History\",\n",
    "         \"Revolving Balance\",\n",
    "         \"Revolving Utilization\"]]\n",
    "y = cred[[\"Credit Score\"]]"
   ]
  },
  {
   "cell_type": "code",
   "execution_count": 23,
   "id": "e38e44f8",
   "metadata": {},
   "outputs": [],
   "source": [
    "model = sm.OLS(y,X)\n",
    "results = model.fit()"
   ]
  },
  {
   "cell_type": "code",
   "execution_count": 26,
   "id": "7ec4678d",
   "metadata": {},
   "outputs": [
    {
     "name": "stdout",
     "output_type": "stream",
     "text": [
      "Years of Credit History     30.883942\n",
      "Revolving Balance            0.006489\n",
      "Revolving Utilization      319.638134\n",
      "dtype: float64\n",
      "                                 OLS Regression Results                                \n",
      "=======================================================================================\n",
      "Dep. Variable:           Credit Score   R-squared (uncentered):                   0.884\n",
      "Model:                            OLS   Adj. R-squared (uncentered):              0.877\n",
      "Method:                 Least Squares   F-statistic:                              119.3\n",
      "Date:                Fri, 16 Dec 2022   Prob (F-statistic):                    5.47e-22\n",
      "Time:                        02:35:48   Log-Likelihood:                         -341.59\n",
      "No. Observations:                  50   AIC:                                      689.2\n",
      "Df Residuals:                      47   BIC:                                      694.9\n",
      "Df Model:                           3                                                  \n",
      "Covariance Type:            nonrobust                                                  \n",
      "===========================================================================================\n",
      "                              coef    std err          t      P>|t|      [0.025      0.975]\n",
      "-------------------------------------------------------------------------------------------\n",
      "Years of Credit History    30.8839      4.076      7.578      0.000      22.685      39.083\n",
      "Revolving Balance           0.0065      0.004      1.734      0.089      -0.001       0.014\n",
      "Revolving Utilization     319.6381     85.003      3.760      0.000     148.635     490.641\n",
      "==============================================================================\n",
      "Omnibus:                        0.769   Durbin-Watson:                   1.502\n",
      "Prob(Omnibus):                  0.681   Jarque-Bera (JB):                0.586\n",
      "Skew:                          -0.262   Prob(JB):                        0.746\n",
      "Kurtosis:                       2.914   Cond. No.                     4.30e+04\n",
      "==============================================================================\n",
      "\n",
      "Notes:\n",
      "[1] R² is computed without centering (uncentered) since the model does not contain a constant.\n",
      "[2] Standard Errors assume that the covariance matrix of the errors is correctly specified.\n",
      "[3] The condition number is large, 4.3e+04. This might indicate that there are\n",
      "strong multicollinearity or other numerical problems.\n"
     ]
    }
   ],
   "source": [
    "print(results.params)\n",
    "print(results.summary())"
   ]
  },
  {
   "cell_type": "code",
   "execution_count": null,
   "id": "79e19d31",
   "metadata": {},
   "outputs": [],
   "source": []
  },
  {
   "cell_type": "code",
   "execution_count": null,
   "id": "5fb28c0a",
   "metadata": {},
   "outputs": [],
   "source": []
  },
  {
   "cell_type": "code",
   "execution_count": null,
   "id": "21c88321",
   "metadata": {},
   "outputs": [],
   "source": []
  },
  {
   "cell_type": "code",
   "execution_count": null,
   "id": "a7cbf701",
   "metadata": {},
   "outputs": [],
   "source": []
  },
  {
   "cell_type": "code",
   "execution_count": null,
   "id": "1f338dab",
   "metadata": {},
   "outputs": [],
   "source": []
  }
 ],
 "metadata": {
  "kernelspec": {
   "display_name": "Python 3 (ipykernel)",
   "language": "python",
   "name": "python3"
  },
  "language_info": {
   "codemirror_mode": {
    "name": "ipython",
    "version": 3
   },
   "file_extension": ".py",
   "mimetype": "text/x-python",
   "name": "python",
   "nbconvert_exporter": "python",
   "pygments_lexer": "ipython3",
   "version": "3.9.13"
  }
 },
 "nbformat": 4,
 "nbformat_minor": 5
}
