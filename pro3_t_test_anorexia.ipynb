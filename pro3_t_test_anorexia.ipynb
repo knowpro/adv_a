{
 "cells": [
  {
   "cell_type": "code",
   "execution_count": 1,
   "id": "73a3da24",
   "metadata": {},
   "outputs": [],
   "source": [
    "import pandas as pd\n",
    "from scipy.stats import ttest_rel"
   ]
  },
  {
   "cell_type": "code",
   "execution_count": 3,
   "id": "87e471b8",
   "metadata": {},
   "outputs": [],
   "source": [
    "anrx = pd.read_csv(r\"C:/Hogwarts/advanced_analytics/working_datasets/anorexia.csv\")"
   ]
  },
  {
   "cell_type": "code",
   "execution_count": 24,
   "id": "c8465101",
   "metadata": {},
   "outputs": [
    {
     "data": {
      "text/html": [
       "<div>\n",
       "<style scoped>\n",
       "    .dataframe tbody tr th:only-of-type {\n",
       "        vertical-align: middle;\n",
       "    }\n",
       "\n",
       "    .dataframe tbody tr th {\n",
       "        vertical-align: top;\n",
       "    }\n",
       "\n",
       "    .dataframe thead th {\n",
       "        text-align: right;\n",
       "    }\n",
       "</style>\n",
       "<table border=\"1\" class=\"dataframe\">\n",
       "  <thead>\n",
       "    <tr style=\"text-align: right;\">\n",
       "      <th></th>\n",
       "      <th>Treat</th>\n",
       "      <th>Prewt</th>\n",
       "      <th>Postwt</th>\n",
       "    </tr>\n",
       "  </thead>\n",
       "  <tbody>\n",
       "    <tr>\n",
       "      <th>0</th>\n",
       "      <td>Cont</td>\n",
       "      <td>80.7</td>\n",
       "      <td>80.2</td>\n",
       "    </tr>\n",
       "    <tr>\n",
       "      <th>1</th>\n",
       "      <td>Cont</td>\n",
       "      <td>89.4</td>\n",
       "      <td>80.1</td>\n",
       "    </tr>\n",
       "    <tr>\n",
       "      <th>2</th>\n",
       "      <td>Cont</td>\n",
       "      <td>91.8</td>\n",
       "      <td>86.4</td>\n",
       "    </tr>\n",
       "    <tr>\n",
       "      <th>3</th>\n",
       "      <td>Cont</td>\n",
       "      <td>74.0</td>\n",
       "      <td>86.3</td>\n",
       "    </tr>\n",
       "    <tr>\n",
       "      <th>4</th>\n",
       "      <td>Cont</td>\n",
       "      <td>78.1</td>\n",
       "      <td>76.1</td>\n",
       "    </tr>\n",
       "    <tr>\n",
       "      <th>...</th>\n",
       "      <td>...</td>\n",
       "      <td>...</td>\n",
       "      <td>...</td>\n",
       "    </tr>\n",
       "    <tr>\n",
       "      <th>67</th>\n",
       "      <td>FT</td>\n",
       "      <td>77.6</td>\n",
       "      <td>90.7</td>\n",
       "    </tr>\n",
       "    <tr>\n",
       "      <th>68</th>\n",
       "      <td>FT</td>\n",
       "      <td>83.5</td>\n",
       "      <td>92.5</td>\n",
       "    </tr>\n",
       "    <tr>\n",
       "      <th>69</th>\n",
       "      <td>FT</td>\n",
       "      <td>89.9</td>\n",
       "      <td>93.8</td>\n",
       "    </tr>\n",
       "    <tr>\n",
       "      <th>70</th>\n",
       "      <td>FT</td>\n",
       "      <td>86.0</td>\n",
       "      <td>91.7</td>\n",
       "    </tr>\n",
       "    <tr>\n",
       "      <th>71</th>\n",
       "      <td>FT</td>\n",
       "      <td>87.3</td>\n",
       "      <td>98.0</td>\n",
       "    </tr>\n",
       "  </tbody>\n",
       "</table>\n",
       "<p>72 rows × 3 columns</p>\n",
       "</div>"
      ],
      "text/plain": [
       "   Treat  Prewt  Postwt\n",
       "0   Cont   80.7    80.2\n",
       "1   Cont   89.4    80.1\n",
       "2   Cont   91.8    86.4\n",
       "3   Cont   74.0    86.3\n",
       "4   Cont   78.1    76.1\n",
       "..   ...    ...     ...\n",
       "67    FT   77.6    90.7\n",
       "68    FT   83.5    92.5\n",
       "69    FT   89.9    93.8\n",
       "70    FT   86.0    91.7\n",
       "71    FT   87.3    98.0\n",
       "\n",
       "[72 rows x 3 columns]"
      ]
     },
     "execution_count": 24,
     "metadata": {},
     "output_type": "execute_result"
    }
   ],
   "source": [
    "anrx"
   ]
  },
  {
   "cell_type": "code",
   "execution_count": 23,
   "id": "79ee9cdb",
   "metadata": {},
   "outputs": [],
   "source": [
    "cont = anrx[anrx['Treat']=='Cont']\n",
    "# cont is variable whereas Cont is data in Treat column"
   ]
  },
  {
   "cell_type": "code",
   "execution_count": 22,
   "id": "77e5796c",
   "metadata": {},
   "outputs": [
    {
     "data": {
      "text/plain": [
       "Ttest_relResult(statistic=0.2872253910150255, pvalue=0.6118464688902916)"
      ]
     },
     "execution_count": 22,
     "metadata": {},
     "output_type": "execute_result"
    }
   ],
   "source": [
    "ttest_rel(cont['Prewt'], cont['Postwt'],\n",
    "         alternative=\"less\")"
   ]
  },
  {
   "cell_type": "code",
   "execution_count": 25,
   "id": "d5554523",
   "metadata": {},
   "outputs": [],
   "source": [
    "ft = anrx[ anrx['Treat'] == 'FT' ]"
   ]
  },
  {
   "cell_type": "code",
   "execution_count": 26,
   "id": "70b65f3b",
   "metadata": {},
   "outputs": [
    {
     "data": {
      "text/plain": [
       "Ttest_relResult(statistic=-4.184908135290033, pvalue=0.00035012655280026967)"
      ]
     },
     "execution_count": 26,
     "metadata": {},
     "output_type": "execute_result"
    }
   ],
   "source": [
    "ttest_rel(ft['Prewt'], ft['Postwt'],\n",
    "         alternative = \"less\")"
   ]
  },
  {
   "cell_type": "code",
   "execution_count": null,
   "id": "b329b516",
   "metadata": {},
   "outputs": [],
   "source": []
  },
  {
   "cell_type": "code",
   "execution_count": null,
   "id": "d6d9e5fa",
   "metadata": {},
   "outputs": [],
   "source": []
  },
  {
   "cell_type": "code",
   "execution_count": null,
   "id": "1c651c30",
   "metadata": {},
   "outputs": [],
   "source": []
  }
 ],
 "metadata": {
  "kernelspec": {
   "display_name": "Python 3 (ipykernel)",
   "language": "python",
   "name": "python3"
  },
  "language_info": {
   "codemirror_mode": {
    "name": "ipython",
    "version": 3
   },
   "file_extension": ".py",
   "mimetype": "text/x-python",
   "name": "python",
   "nbconvert_exporter": "python",
   "pygments_lexer": "ipython3",
   "version": "3.9.13"
  }
 },
 "nbformat": 4,
 "nbformat_minor": 5
}
