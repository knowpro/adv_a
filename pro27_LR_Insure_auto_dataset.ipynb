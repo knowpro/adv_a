{
 "cells": [
  {
   "cell_type": "code",
   "execution_count": 32,
   "id": "f4b5defa",
   "metadata": {},
   "outputs": [],
   "source": [
    "import pandas as pd\n",
    "import numpy as np\n",
    "\n",
    "from sklearn.linear_model import LinearRegression\n",
    "from sklearn.metrics import mean_squared_error,mean_absolute_error,r2_score\n",
    "\n",
    "import ipywidgets as widgets\n",
    "from IPython.display import display"
   ]
  },
  {
   "cell_type": "code",
   "execution_count": 26,
   "id": "9bee8a22",
   "metadata": {},
   "outputs": [],
   "source": [
    "ins_ato = pd.read_csv(r\"C:/Hogwarts/advanced_analytics/Datasets/Insure_auto.csv\")"
   ]
  },
  {
   "cell_type": "code",
   "execution_count": 27,
   "id": "47f8cc82",
   "metadata": {},
   "outputs": [
    {
     "data": {
      "text/html": [
       "<div>\n",
       "<style scoped>\n",
       "    .dataframe tbody tr th:only-of-type {\n",
       "        vertical-align: middle;\n",
       "    }\n",
       "\n",
       "    .dataframe tbody tr th {\n",
       "        vertical-align: top;\n",
       "    }\n",
       "\n",
       "    .dataframe thead th {\n",
       "        text-align: right;\n",
       "    }\n",
       "</style>\n",
       "<table border=\"1\" class=\"dataframe\">\n",
       "  <thead>\n",
       "    <tr style=\"text-align: right;\">\n",
       "      <th></th>\n",
       "      <th>Branch</th>\n",
       "      <th>Home</th>\n",
       "      <th>Automobile</th>\n",
       "      <th>Operating_Cost</th>\n",
       "    </tr>\n",
       "  </thead>\n",
       "  <tbody>\n",
       "    <tr>\n",
       "      <th>0</th>\n",
       "      <td>B01</td>\n",
       "      <td>400</td>\n",
       "      <td>1200</td>\n",
       "      <td>124000</td>\n",
       "    </tr>\n",
       "    <tr>\n",
       "      <th>1</th>\n",
       "      <td>B02</td>\n",
       "      <td>350</td>\n",
       "      <td>360</td>\n",
       "      <td>71000</td>\n",
       "    </tr>\n",
       "    <tr>\n",
       "      <th>2</th>\n",
       "      <td>B03</td>\n",
       "      <td>600</td>\n",
       "      <td>800</td>\n",
       "      <td>136000</td>\n",
       "    </tr>\n",
       "    <tr>\n",
       "      <th>3</th>\n",
       "      <td>B04</td>\n",
       "      <td>800</td>\n",
       "      <td>1800</td>\n",
       "      <td>219000</td>\n",
       "    </tr>\n",
       "    <tr>\n",
       "      <th>4</th>\n",
       "      <td>B05</td>\n",
       "      <td>900</td>\n",
       "      <td>1600</td>\n",
       "      <td>230000</td>\n",
       "    </tr>\n",
       "  </tbody>\n",
       "</table>\n",
       "</div>"
      ],
      "text/plain": [
       "  Branch  Home  Automobile  Operating_Cost\n",
       "0    B01   400        1200          124000\n",
       "1    B02   350         360           71000\n",
       "2    B03   600         800          136000\n",
       "3    B04   800        1800          219000\n",
       "4    B05   900        1600          230000"
      ]
     },
     "execution_count": 27,
     "metadata": {},
     "output_type": "execute_result"
    }
   ],
   "source": [
    "ins_ato.head()"
   ]
  },
  {
   "cell_type": "code",
   "execution_count": 28,
   "id": "6199974d",
   "metadata": {},
   "outputs": [
    {
     "name": "stdout",
     "output_type": "stream",
     "text": [
      "[ 54.10529229 167.32668857]\n",
      "-10084.213130948774\n"
     ]
    }
   ],
   "source": [
    "X = ins_ato[['Automobile', 'Home']]\n",
    "y = ins_ato[ \"Operating_Cost\"]\n",
    "\n",
    "regressor = LinearRegression()\n",
    "regressor.fit(X, y)\n",
    "\n",
    "print(regressor.coef_)\n",
    "print(regressor.intercept_)"
   ]
  },
  {
   "cell_type": "code",
   "execution_count": 29,
   "id": "3f4a1131",
   "metadata": {},
   "outputs": [],
   "source": [
    "def predict_on_test(x1,x2):\n",
    "    test_data = np.array([[x1,x2]])\n",
    "    prediction = regressor.predict(test_data)\n",
    "    y1_str = \"Predicted Sales = \" + str(prediction[0])\n",
    "    display(y1_str);"
   ]
  },
  {
   "cell_type": "code",
   "execution_count": 33,
   "id": "66b95002",
   "metadata": {},
   "outputs": [
    {
     "name": "stdout",
     "output_type": "stream",
     "text": [
      "(120, 900)\n",
      "(360, 900)\n"
     ]
    }
   ],
   "source": [
    "min_1 = ins_ato['Automobile'].min()\n",
    "max_1 = ins_ato['Automobile'].max()\n",
    "print((min_lstat,max_lstat))\n",
    "\n",
    "min_2 = ins_ato['Home'].min()\n",
    "max_2 = ins_ato['Home'].max()\n",
    "print((min_1,max_2))"
   ]
  },
  {
   "cell_type": "code",
   "execution_count": 34,
   "id": "ce763088",
   "metadata": {},
   "outputs": [
    {
     "data": {
      "application/vnd.jupyter.widget-view+json": {
       "model_id": "4ff950ec0b5944f183a5eda73be2935c",
       "version_major": 2,
       "version_minor": 0
      },
      "text/plain": [
       "interactive(children=(FloatSlider(value=360.0, continuous_update=False, description='Automobile:', max=1800.0,…"
      ]
     },
     "metadata": {},
     "output_type": "display_data"
    }
   ],
   "source": [
    "w = widgets.interactive(predict_on_test,  \n",
    "                        x1 = widgets.FloatSlider(value=10.0,\n",
    "                                                 min=min_1,\n",
    "                                                 max=max_1,\n",
    "                                                 step=0.05,\n",
    "                                                 description='Automobile:',\n",
    "                                                 disabled=False,\n",
    "                                                 continuous_update=False),\n",
    "                       x2 = widgets.FloatSlider(value=10.0,\n",
    "                                                 min=min_2,\n",
    "                                                 max=max_2,\n",
    "                                                 step=0.05,\n",
    "                                                 description='Home:',\n",
    "                                                 disabled=False,\n",
    "                                                 continuous_update=False))\n",
    "display(w)"
   ]
  },
  {
   "cell_type": "code",
   "execution_count": null,
   "id": "c8cde1a6",
   "metadata": {},
   "outputs": [],
   "source": []
  },
  {
   "cell_type": "code",
   "execution_count": null,
   "id": "44ec674b",
   "metadata": {},
   "outputs": [],
   "source": []
  },
  {
   "cell_type": "code",
   "execution_count": null,
   "id": "a6912f61",
   "metadata": {},
   "outputs": [],
   "source": []
  },
  {
   "cell_type": "code",
   "execution_count": null,
   "id": "8bdc4aad",
   "metadata": {},
   "outputs": [],
   "source": []
  },
  {
   "cell_type": "code",
   "execution_count": null,
   "id": "ab0ae8c6",
   "metadata": {},
   "outputs": [],
   "source": []
  }
 ],
 "metadata": {
  "kernelspec": {
   "display_name": "Python 3 (ipykernel)",
   "language": "python",
   "name": "python3"
  },
  "language_info": {
   "codemirror_mode": {
    "name": "ipython",
    "version": 3
   },
   "file_extension": ".py",
   "mimetype": "text/x-python",
   "name": "python",
   "nbconvert_exporter": "python",
   "pygments_lexer": "ipython3",
   "version": "3.9.13"
  }
 },
 "nbformat": 4,
 "nbformat_minor": 5
}
