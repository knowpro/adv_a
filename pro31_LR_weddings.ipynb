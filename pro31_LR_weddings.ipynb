{
 "cells": [
  {
   "cell_type": "code",
   "execution_count": 8,
   "id": "871f3d06",
   "metadata": {},
   "outputs": [],
   "source": [
    "import pandas as pd\n",
    "import numpy as np\n",
    "\n",
    "from sklearn.linear_model import LinearRegression\n",
    "from sklearn.metrics import r2_score"
   ]
  },
  {
   "cell_type": "code",
   "execution_count": 25,
   "id": "222847c2",
   "metadata": {},
   "outputs": [],
   "source": [
    "wed = pd.read_excel(r\"C:\\Hogwarts\\advanced_analytics\\Excel Datasets\\eba3e_datasets_xls\\Weddings.xlsx\",\n",
    "                    usecols=\"A:F\",\n",
    "                    skiprows = 2)"
   ]
  },
  {
   "cell_type": "code",
   "execution_count": 26,
   "id": "755e0874",
   "metadata": {},
   "outputs": [
    {
     "data": {
      "text/html": [
       "<div>\n",
       "<style scoped>\n",
       "    .dataframe tbody tr th:only-of-type {\n",
       "        vertical-align: middle;\n",
       "    }\n",
       "\n",
       "    .dataframe tbody tr th {\n",
       "        vertical-align: top;\n",
       "    }\n",
       "\n",
       "    .dataframe thead th {\n",
       "        text-align: right;\n",
       "    }\n",
       "</style>\n",
       "<table border=\"1\" class=\"dataframe\">\n",
       "  <thead>\n",
       "    <tr style=\"text-align: right;\">\n",
       "      <th></th>\n",
       "      <th>Couple's Income</th>\n",
       "      <th>Bride's age</th>\n",
       "      <th>Payor</th>\n",
       "      <th>Wedding cost</th>\n",
       "      <th>Attendance</th>\n",
       "      <th>Value Rating</th>\n",
       "    </tr>\n",
       "  </thead>\n",
       "  <tbody>\n",
       "    <tr>\n",
       "      <th>0</th>\n",
       "      <td>130000</td>\n",
       "      <td>22</td>\n",
       "      <td>Bride's Parents</td>\n",
       "      <td>60700</td>\n",
       "      <td>300</td>\n",
       "      <td>3</td>\n",
       "    </tr>\n",
       "    <tr>\n",
       "      <th>1</th>\n",
       "      <td>157000</td>\n",
       "      <td>23</td>\n",
       "      <td>Bride's Parents</td>\n",
       "      <td>52000</td>\n",
       "      <td>350</td>\n",
       "      <td>1</td>\n",
       "    </tr>\n",
       "    <tr>\n",
       "      <th>2</th>\n",
       "      <td>98000</td>\n",
       "      <td>27</td>\n",
       "      <td>Bride &amp; Groom</td>\n",
       "      <td>47000</td>\n",
       "      <td>150</td>\n",
       "      <td>3</td>\n",
       "    </tr>\n",
       "    <tr>\n",
       "      <th>3</th>\n",
       "      <td>72000</td>\n",
       "      <td>29</td>\n",
       "      <td>Bride &amp; Groom</td>\n",
       "      <td>42000</td>\n",
       "      <td>200</td>\n",
       "      <td>5</td>\n",
       "    </tr>\n",
       "    <tr>\n",
       "      <th>4</th>\n",
       "      <td>86000</td>\n",
       "      <td>25</td>\n",
       "      <td>Bride's Parents</td>\n",
       "      <td>34000</td>\n",
       "      <td>250</td>\n",
       "      <td>3</td>\n",
       "    </tr>\n",
       "  </tbody>\n",
       "</table>\n",
       "</div>"
      ],
      "text/plain": [
       "   Couple's Income  Bride's age             Payor  Wedding cost  Attendance  \\\n",
       "0           130000            22  Bride's Parents         60700         300   \n",
       "1           157000            23  Bride's Parents         52000         350   \n",
       "2            98000            27    Bride & Groom         47000         150   \n",
       "3            72000            29    Bride & Groom         42000         200   \n",
       "4            86000            25  Bride's Parents         34000         250   \n",
       "\n",
       "   Value Rating  \n",
       "0             3  \n",
       "1             1  \n",
       "2             3  \n",
       "3             5  \n",
       "4             3  "
      ]
     },
     "execution_count": 26,
     "metadata": {},
     "output_type": "execute_result"
    }
   ],
   "source": [
    "wed.head()"
   ]
  },
  {
   "cell_type": "code",
   "execution_count": 27,
   "id": "7a184d0c",
   "metadata": {},
   "outputs": [
    {
     "name": "stdout",
     "output_type": "stream",
     "text": [
      "[0.00413244]\n",
      "77.18464917343564\n"
     ]
    }
   ],
   "source": [
    "X = wed[['Wedding cost']]\n",
    "y = wed['Attendance']\n",
    "\n",
    "regressor = LinearRegression()\n",
    "regressor.fit(X, y)\n",
    "\n",
    "print(regressor.coef_)\n",
    "print(regressor.intercept_)"
   ]
  },
  {
   "cell_type": "code",
   "execution_count": null,
   "id": "32c5cae2",
   "metadata": {},
   "outputs": [],
   "source": []
  },
  {
   "cell_type": "code",
   "execution_count": 31,
   "id": "31fbcb97",
   "metadata": {},
   "outputs": [
    {
     "name": "stdout",
     "output_type": "stream",
     "text": [
      "[-5.56057076e-06]\n",
      "3.3037296330308554\n"
     ]
    }
   ],
   "source": [
    "X2 = wed[[\"Wedding cost\"]]\n",
    "y2 = wed[\"Value Rating\"]\n",
    "\n",
    "regressor2 = LinearRegression()\n",
    "regressor2.fit(X2, y2)\n",
    "\n",
    "\n",
    "print(regressor2.coef_)\n",
    "print(regressor2.intercept_)"
   ]
  },
  {
   "cell_type": "code",
   "execution_count": null,
   "id": "d02f200f",
   "metadata": {},
   "outputs": [],
   "source": []
  },
  {
   "cell_type": "code",
   "execution_count": 34,
   "id": "55dfbdc7",
   "metadata": {},
   "outputs": [
    {
     "name": "stdout",
     "output_type": "stream",
     "text": [
      "[-5.56057076e-06]\n",
      "3.3037296330308554\n"
     ]
    }
   ],
   "source": [
    "X3 = wed[[\"Wedding cost\"]]\n",
    "y3 = wed[\"Couple's Income\"]\n",
    "\n",
    "regressor3 = LinearRegression()\n",
    "regressor3.fit(X2, y2)\n",
    "\n",
    "\n",
    "print(regressor3.coef_)\n",
    "print(regressor3.intercept_)"
   ]
  },
  {
   "cell_type": "code",
   "execution_count": null,
   "id": "2f3da7c8",
   "metadata": {},
   "outputs": [],
   "source": []
  },
  {
   "cell_type": "code",
   "execution_count": null,
   "id": "b901c349",
   "metadata": {},
   "outputs": [],
   "source": []
  },
  {
   "cell_type": "code",
   "execution_count": null,
   "id": "33ccb5e3",
   "metadata": {},
   "outputs": [],
   "source": []
  },
  {
   "cell_type": "code",
   "execution_count": null,
   "id": "4ed8aee0",
   "metadata": {},
   "outputs": [],
   "source": []
  },
  {
   "cell_type": "code",
   "execution_count": null,
   "id": "89e24635",
   "metadata": {},
   "outputs": [],
   "source": []
  }
 ],
 "metadata": {
  "kernelspec": {
   "display_name": "Python 3 (ipykernel)",
   "language": "python",
   "name": "python3"
  },
  "language_info": {
   "codemirror_mode": {
    "name": "ipython",
    "version": 3
   },
   "file_extension": ".py",
   "mimetype": "text/x-python",
   "name": "python",
   "nbconvert_exporter": "python",
   "pygments_lexer": "ipython3",
   "version": "3.9.13"
  }
 },
 "nbformat": 4,
 "nbformat_minor": 5
}
