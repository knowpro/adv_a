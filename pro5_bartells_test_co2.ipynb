{
 "cells": [
  {
   "cell_type": "code",
   "execution_count": 10,
   "id": "0bcfec02",
   "metadata": {},
   "outputs": [],
   "source": [
    "import pandas as pd\n",
    "from scipy.stats import bartlett, ttest_ind"
   ]
  },
  {
   "cell_type": "code",
   "execution_count": 11,
   "id": "39762f91",
   "metadata": {},
   "outputs": [],
   "source": [
    "co2 = pd.read_csv(r\"C:/Hogwarts/advanced_analytics/Datasets/CO2.csv\")"
   ]
  },
  {
   "cell_type": "code",
   "execution_count": 12,
   "id": "6163d67b",
   "metadata": {},
   "outputs": [
    {
     "data": {
      "text/html": [
       "<div>\n",
       "<style scoped>\n",
       "    .dataframe tbody tr th:only-of-type {\n",
       "        vertical-align: middle;\n",
       "    }\n",
       "\n",
       "    .dataframe tbody tr th {\n",
       "        vertical-align: top;\n",
       "    }\n",
       "\n",
       "    .dataframe thead th {\n",
       "        text-align: right;\n",
       "    }\n",
       "</style>\n",
       "<table border=\"1\" class=\"dataframe\">\n",
       "  <thead>\n",
       "    <tr style=\"text-align: right;\">\n",
       "      <th></th>\n",
       "      <th>Plant</th>\n",
       "      <th>Type</th>\n",
       "      <th>Treatment</th>\n",
       "      <th>conc</th>\n",
       "      <th>uptake</th>\n",
       "    </tr>\n",
       "  </thead>\n",
       "  <tbody>\n",
       "    <tr>\n",
       "      <th>0</th>\n",
       "      <td>Qn1</td>\n",
       "      <td>Quebec</td>\n",
       "      <td>nonchilled</td>\n",
       "      <td>95</td>\n",
       "      <td>16.0</td>\n",
       "    </tr>\n",
       "    <tr>\n",
       "      <th>1</th>\n",
       "      <td>Qn1</td>\n",
       "      <td>Quebec</td>\n",
       "      <td>nonchilled</td>\n",
       "      <td>175</td>\n",
       "      <td>30.4</td>\n",
       "    </tr>\n",
       "    <tr>\n",
       "      <th>2</th>\n",
       "      <td>Qn1</td>\n",
       "      <td>Quebec</td>\n",
       "      <td>nonchilled</td>\n",
       "      <td>250</td>\n",
       "      <td>34.8</td>\n",
       "    </tr>\n",
       "    <tr>\n",
       "      <th>3</th>\n",
       "      <td>Qn1</td>\n",
       "      <td>Quebec</td>\n",
       "      <td>nonchilled</td>\n",
       "      <td>350</td>\n",
       "      <td>37.2</td>\n",
       "    </tr>\n",
       "    <tr>\n",
       "      <th>4</th>\n",
       "      <td>Qn1</td>\n",
       "      <td>Quebec</td>\n",
       "      <td>nonchilled</td>\n",
       "      <td>500</td>\n",
       "      <td>35.3</td>\n",
       "    </tr>\n",
       "    <tr>\n",
       "      <th>...</th>\n",
       "      <td>...</td>\n",
       "      <td>...</td>\n",
       "      <td>...</td>\n",
       "      <td>...</td>\n",
       "      <td>...</td>\n",
       "    </tr>\n",
       "    <tr>\n",
       "      <th>79</th>\n",
       "      <td>Mc3</td>\n",
       "      <td>Mississippi</td>\n",
       "      <td>chilled</td>\n",
       "      <td>250</td>\n",
       "      <td>17.9</td>\n",
       "    </tr>\n",
       "    <tr>\n",
       "      <th>80</th>\n",
       "      <td>Mc3</td>\n",
       "      <td>Mississippi</td>\n",
       "      <td>chilled</td>\n",
       "      <td>350</td>\n",
       "      <td>17.9</td>\n",
       "    </tr>\n",
       "    <tr>\n",
       "      <th>81</th>\n",
       "      <td>Mc3</td>\n",
       "      <td>Mississippi</td>\n",
       "      <td>chilled</td>\n",
       "      <td>500</td>\n",
       "      <td>17.9</td>\n",
       "    </tr>\n",
       "    <tr>\n",
       "      <th>82</th>\n",
       "      <td>Mc3</td>\n",
       "      <td>Mississippi</td>\n",
       "      <td>chilled</td>\n",
       "      <td>675</td>\n",
       "      <td>18.9</td>\n",
       "    </tr>\n",
       "    <tr>\n",
       "      <th>83</th>\n",
       "      <td>Mc3</td>\n",
       "      <td>Mississippi</td>\n",
       "      <td>chilled</td>\n",
       "      <td>1000</td>\n",
       "      <td>19.9</td>\n",
       "    </tr>\n",
       "  </tbody>\n",
       "</table>\n",
       "<p>84 rows × 5 columns</p>\n",
       "</div>"
      ],
      "text/plain": [
       "   Plant         Type   Treatment  conc  uptake\n",
       "0    Qn1       Quebec  nonchilled    95    16.0\n",
       "1    Qn1       Quebec  nonchilled   175    30.4\n",
       "2    Qn1       Quebec  nonchilled   250    34.8\n",
       "3    Qn1       Quebec  nonchilled   350    37.2\n",
       "4    Qn1       Quebec  nonchilled   500    35.3\n",
       "..   ...          ...         ...   ...     ...\n",
       "79   Mc3  Mississippi     chilled   250    17.9\n",
       "80   Mc3  Mississippi     chilled   350    17.9\n",
       "81   Mc3  Mississippi     chilled   500    17.9\n",
       "82   Mc3  Mississippi     chilled   675    18.9\n",
       "83   Mc3  Mississippi     chilled  1000    19.9\n",
       "\n",
       "[84 rows x 5 columns]"
      ]
     },
     "execution_count": 12,
     "metadata": {},
     "output_type": "execute_result"
    }
   ],
   "source": [
    "co2"
   ]
  },
  {
   "cell_type": "code",
   "execution_count": 13,
   "id": "7de5c8d2",
   "metadata": {},
   "outputs": [],
   "source": [
    "chill = co2[ co2['Treatment'] == \"chilled\"]"
   ]
  },
  {
   "cell_type": "code",
   "execution_count": 14,
   "id": "86c6072f",
   "metadata": {},
   "outputs": [],
   "source": [
    "non_chill = co2[ co2['Treatment'] == \"nonchilled\"]"
   ]
  },
  {
   "cell_type": "code",
   "execution_count": 15,
   "id": "d5fa9c36",
   "metadata": {},
   "outputs": [
    {
     "data": {
      "text/plain": [
       "BartlettResult(statistic=0.5315695885641828, pvalue=0.46594771841246396)"
      ]
     },
     "execution_count": 15,
     "metadata": {},
     "output_type": "execute_result"
    }
   ],
   "source": [
    "bartlett(chill['uptake'], non_chill['uptake'])"
   ]
  },
  {
   "cell_type": "code",
   "execution_count": null,
   "id": "91220423",
   "metadata": {},
   "outputs": [],
   "source": []
  },
  {
   "cell_type": "code",
   "execution_count": null,
   "id": "5e6172ea",
   "metadata": {},
   "outputs": [],
   "source": []
  }
 ],
 "metadata": {
  "kernelspec": {
   "display_name": "Python 3 (ipykernel)",
   "language": "python",
   "name": "python3"
  },
  "language_info": {
   "codemirror_mode": {
    "name": "ipython",
    "version": 3
   },
   "file_extension": ".py",
   "mimetype": "text/x-python",
   "name": "python",
   "nbconvert_exporter": "python",
   "pygments_lexer": "ipython3",
   "version": "3.9.13"
  }
 },
 "nbformat": 4,
 "nbformat_minor": 5
}
