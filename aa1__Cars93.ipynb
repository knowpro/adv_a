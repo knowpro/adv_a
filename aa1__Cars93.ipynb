{
 "cells": [
  {
   "cell_type": "code",
   "execution_count": 1,
   "id": "be497ab1",
   "metadata": {},
   "outputs": [],
   "source": [
    "import pandas as pd\n",
    "import numpy as np\n",
    "import matplotlib.pyplot as plt"
   ]
  },
  {
   "cell_type": "code",
   "execution_count": 8,
   "id": "6e11d31c",
   "metadata": {},
   "outputs": [
    {
     "name": "stdout",
     "output_type": "stream",
     "text": [
      "(93, 26)\n"
     ]
    }
   ],
   "source": [
    "cars93=pd.read_excel(\"Cars93.xlsx\")\n",
    "print(cars93.shape)"
   ]
  },
  {
   "cell_type": "code",
   "execution_count": 7,
   "id": "343b601d",
   "metadata": {},
   "outputs": [
    {
     "name": "stdout",
     "output_type": "stream",
     "text": [
      "Index(['Manufacturer', 'Model', 'Type', 'Min.Price', 'Price', 'Max.Price',\n",
      "       'MPG.city', 'MPG.highway', 'AirBags', 'DriveTrain', 'Cylinders',\n",
      "       'EngineSize', 'Horsepower', 'RPM', 'Rev.per.mile', 'Man.trans.avail',\n",
      "       'Fuel.tank.capacity', 'Passengers', 'Length', 'Wheelbase', 'Width',\n",
      "       'Turn.circle', 'Rear.seat.room', 'Luggage.room', 'Weight', 'Origin'],\n",
      "      dtype='object')\n"
     ]
    }
   ],
   "source": [
    "print(cars93.columns)"
   ]
  },
  {
   "cell_type": "code",
   "execution_count": 4,
   "id": "be78d28f",
   "metadata": {},
   "outputs": [
    {
     "name": "stdout",
     "output_type": "stream",
     "text": [
      "Manufacturer           object\n",
      "Model                  object\n",
      "Type                   object\n",
      "Min.Price             float64\n",
      "Price                 float64\n",
      "Max.Price             float64\n",
      "MPG.city                int64\n",
      "MPG.highway             int64\n",
      "AirBags                object\n",
      "DriveTrain             object\n",
      "Cylinders              object\n",
      "EngineSize            float64\n",
      "Horsepower              int64\n",
      "RPM                     int64\n",
      "Rev.per.mile            int64\n",
      "Man.trans.avail        object\n",
      "Fuel.tank.capacity    float64\n",
      "Passengers              int64\n",
      "Length                  int64\n",
      "Wheelbase               int64\n",
      "Width                   int64\n",
      "Turn.circle             int64\n",
      "Rear.seat.room        float64\n",
      "Luggage.room          float64\n",
      "Weight                  int64\n",
      "Origin                 object\n",
      "dtype: object\n"
     ]
    }
   ],
   "source": [
    "print(cars93.dtypes)"
   ]
  },
  {
   "cell_type": "code",
   "execution_count": 5,
   "id": "6a71817c",
   "metadata": {},
   "outputs": [
    {
     "name": "stdout",
     "output_type": "stream",
     "text": [
      "<class 'pandas.core.frame.DataFrame'>\n",
      "RangeIndex: 93 entries, 0 to 92\n",
      "Data columns (total 26 columns):\n",
      " #   Column              Non-Null Count  Dtype  \n",
      "---  ------              --------------  -----  \n",
      " 0   Manufacturer        93 non-null     object \n",
      " 1   Model               93 non-null     object \n",
      " 2   Type                93 non-null     object \n",
      " 3   Min.Price           93 non-null     float64\n",
      " 4   Price               93 non-null     float64\n",
      " 5   Max.Price           93 non-null     float64\n",
      " 6   MPG.city            93 non-null     int64  \n",
      " 7   MPG.highway         93 non-null     int64  \n",
      " 8   AirBags             93 non-null     object \n",
      " 9   DriveTrain          93 non-null     object \n",
      " 10  Cylinders           93 non-null     object \n",
      " 11  EngineSize          93 non-null     float64\n",
      " 12  Horsepower          93 non-null     int64  \n",
      " 13  RPM                 93 non-null     int64  \n",
      " 14  Rev.per.mile        93 non-null     int64  \n",
      " 15  Man.trans.avail     93 non-null     object \n",
      " 16  Fuel.tank.capacity  93 non-null     float64\n",
      " 17  Passengers          93 non-null     int64  \n",
      " 18  Length              93 non-null     int64  \n",
      " 19  Wheelbase           93 non-null     int64  \n",
      " 20  Width               93 non-null     int64  \n",
      " 21  Turn.circle         93 non-null     int64  \n",
      " 22  Rear.seat.room      91 non-null     float64\n",
      " 23  Luggage.room        82 non-null     float64\n",
      " 24  Weight              93 non-null     int64  \n",
      " 25  Origin              93 non-null     object \n",
      "dtypes: float64(7), int64(11), object(8)\n",
      "memory usage: 19.0+ KB\n",
      "None\n"
     ]
    }
   ],
   "source": [
    "print(cars93.info())"
   ]
  },
  {
   "cell_type": "code",
   "execution_count": 3,
   "id": "5835c692",
   "metadata": {},
   "outputs": [
    {
     "name": "stdout",
     "output_type": "stream",
     "text": [
      "Mean\n"
     ]
    },
    {
     "data": {
      "text/plain": [
       "19.509677419354837"
      ]
     },
     "execution_count": 3,
     "metadata": {},
     "output_type": "execute_result"
    }
   ],
   "source": [
    "print(\"Mean\")\n",
    "cars93['Price'].mean()"
   ]
  },
  {
   "cell_type": "code",
   "execution_count": 9,
   "id": "d880e1b1",
   "metadata": {},
   "outputs": [
    {
     "name": "stdout",
     "output_type": "stream",
     "text": [
      "Median\n"
     ]
    },
    {
     "data": {
      "text/plain": [
       "17.7"
      ]
     },
     "execution_count": 9,
     "metadata": {},
     "output_type": "execute_result"
    }
   ],
   "source": [
    "print(\"Median\")\n",
    "cars93['Price'].median()"
   ]
  },
  {
   "cell_type": "code",
   "execution_count": 13,
   "id": "e09b0dab",
   "metadata": {},
   "outputs": [
    {
     "name": "stdout",
     "output_type": "stream",
     "text": [
      "Mean 0.75\n"
     ]
    },
    {
     "data": {
      "text/plain": [
       "23.3"
      ]
     },
     "execution_count": 13,
     "metadata": {},
     "output_type": "execute_result"
    }
   ],
   "source": [
    "# Matter in code\n",
    "print(\"Mean 0.75\")\n",
    "cars93['Price'].quantile(q = 0.75)"
   ]
  },
  {
   "cell_type": "code",
   "execution_count": 14,
   "id": "dd92a082",
   "metadata": {},
   "outputs": [
    {
     "name": "stdout",
     "output_type": "stream",
     "text": [
      "Quantile 0.25\n"
     ]
    },
    {
     "data": {
      "text/plain": [
       "12.2"
      ]
     },
     "execution_count": 14,
     "metadata": {},
     "output_type": "execute_result"
    }
   ],
   "source": [
    "print(\"Quantile 0.25\")\n",
    "cars93['Price'].quantile(q=0.25)"
   ]
  },
  {
   "cell_type": "code",
   "execution_count": 17,
   "id": "e8da6aba",
   "metadata": {},
   "outputs": [
    {
     "data": {
      "text/plain": [
       "0.25    12.2\n",
       "0.50    17.7\n",
       "0.75    23.3\n",
       "Name: Price, dtype: float64"
      ]
     },
     "execution_count": 17,
     "metadata": {},
     "output_type": "execute_result"
    }
   ],
   "source": [
    "cars93['Price'].quantile( q = np.array([0.25,0.5,0.75]) )"
   ]
  },
  {
   "cell_type": "code",
   "execution_count": 20,
   "id": "b0a52d7e",
   "metadata": {},
   "outputs": [
    {
     "data": {
      "image/png": "[encoded data removed]",
      "text/plain": [
       "<Figure size 640x480 with 1 Axes>"
      ]
     },
     "metadata": {},
     "output_type": "display_data"
    },
    {
     "data": {
      "text/plain": [
       "93.30457924263672"
      ]
     },
     "execution_count": 20,
     "metadata": {},
     "output_type": "execute_result"
    }
   ],
   "source": [
    "cars93['Price'].plot(kind='box')\n",
    "plt.show()"
   ]
  },
  {
   "cell_type": "code",
   "execution_count": 23,
   "id": "e147b001",
   "metadata": {},
   "outputs": [
    {
     "data": {
      "text/plain": [
       "9.659429550580962"
      ]
     },
     "execution_count": 23,
     "metadata": {},
     "output_type": "execute_result"
    }
   ],
   "source": [
    "cars93['Price'].std()"
   ]
  },
  {
   "cell_type": "code",
   "execution_count": 24,
   "id": "240602a7",
   "metadata": {},
   "outputs": [
    {
     "data": {
      "text/plain": [
       "93.30457924263672"
      ]
     },
     "execution_count": 24,
     "metadata": {},
     "output_type": "execute_result"
    }
   ],
   "source": [
    "cars93['Price'].var()"
   ]
  },
  {
   "cell_type": "code",
   "execution_count": 28,
   "id": "ef008b08",
   "metadata": {},
   "outputs": [
    {
     "name": "stdout",
     "output_type": "stream",
     "text": [
      "0.4951096495833496\n"
     ]
    }
   ],
   "source": [
    "cv = cars93['Price'].std()/cars93['Price'].mean()\n",
    "print(cv)"
   ]
  },
  {
   "cell_type": "code",
   "execution_count": 34,
   "id": "42b84ca6",
   "metadata": {},
   "outputs": [
    {
     "data": {
      "text/plain": [
       "<bound method NDFrame._add_numeric_operations.<locals>.kurt of 0     15.9\n",
       "1     33.9\n",
       "2     29.1\n",
       "3     37.7\n",
       "4     30.0\n",
       "      ... \n",
       "88    19.7\n",
       "89    20.0\n",
       "90    23.3\n",
       "91    22.7\n",
       "92    26.7\n",
       "Name: Price, Length: 93, dtype: float64>"
      ]
     },
     "execution_count": 34,
     "metadata": {},
     "output_type": "execute_result"
    }
   ],
   "source": [
    "# Kurtosis\n",
    "\n",
    "from scipy.stats import kurtosis\n",
    "kurtosis(cars93['Price'], fisher = True)\n",
    "cars93['Price'].kurtosis"
   ]
  },
  {
   "cell_type": "code",
   "execution_count": 36,
   "id": "599b5bd2",
   "metadata": {},
   "outputs": [
    {
     "data": {
      "text/plain": [
       "<bound method NDFrame._add_numeric_operations.<locals>.kurt of 0     15.9\n",
       "1     33.9\n",
       "2     29.1\n",
       "3     37.7\n",
       "4     30.0\n",
       "      ... \n",
       "88    19.7\n",
       "89    20.0\n",
       "90    23.3\n",
       "91    22.7\n",
       "92    26.7\n",
       "Name: Price, Length: 93, dtype: float64>"
      ]
     },
     "execution_count": 36,
     "metadata": {},
     "output_type": "execute_result"
    }
   ],
   "source": [
    "\n",
    "from scipy.stats import kurtosis\n",
    "kurtosis(cars93['Price'])\n",
    "cars93['Price'].kurtosis"
   ]
  },
  {
   "cell_type": "code",
   "execution_count": null,
   "id": "73596277",
   "metadata": {},
   "outputs": [],
   "source": []
  }
 ],
 "metadata": {
  "kernelspec": {
   "display_name": "Python 3 (ipykernel)",
   "language": "python",
   "name": "python3"
  },
  "language_info": {
   "codemirror_mode": {
    "name": "ipython",
    "version": 3
   },
   "file_extension": ".py",
   "mimetype": "text/x-python",
   "name": "python",
   "nbconvert_exporter": "python",
   "pygments_lexer": "ipython3",
   "version": "3.9.13"
  }
 },
 "nbformat": 4,
 "nbformat_minor": 5
}
